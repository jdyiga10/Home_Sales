{
 "cells": [
  {
   "cell_type": "code",
   "execution_count": 20,
   "metadata": {
    "colab": {
     "base_uri": "https://localhost:8080/"
    },
    "id": "a_KW73O2e3dw",
    "outputId": "d48a498e-e30d-43e5-d85b-3081b50ff001"
   },
   "outputs": [
    {
     "name": "stdout",
     "output_type": "stream",
     "text": [
      "zsh:1: command not found: apt-get\n",
      "zsh:1: command not found: apt-get\n",
      "zsh:1: command not found: wget\n",
      "tar: Error opening archive: Failed to open 'spark-3.4.0-bin-hadoop3.tgz'\n"
     ]
    }
   ],
   "source": [
    "import os\n",
    "# Find the latest version of spark 3.x  from http://www.apache.org/dist/spark/ and enter as the spark version\n",
    "# For example:\n",
    "# spark_version = 'spark-3.4.0'\n",
    "spark_version = 'spark-3.4.0'\n",
    "os.environ['SPARK_VERSION']=spark_version\n",
    "\n",
    "# Install Spark and Java\n",
    "!apt-get update\n",
    "!apt-get install openjdk-11-jdk-headless -qq > /dev/null\n",
    "!wget -q http://www.apache.org/dist/spark/$SPARK_VERSION/$SPARK_VERSION-bin-hadoop3.tgz\n",
    "!tar xf $SPARK_VERSION-bin-hadoop3.tgz\n",
    "!pip install -q findspark\n",
    "\n",
    "# Set Environment Variables\n",
    "os.environ[\"JAVA_HOME\"] = \"/usr/lib/jvm/java-11-openjdk-amd64\"\n",
    "os.environ[\"SPARK_HOME\"] = f\"/content/{spark_version}-bin-hadoop3\"\n",
    "\n",
    "# Start a SparkSession\n",
    "import findspark\n",
    "findspark.init()"
   ]
  },
  {
   "cell_type": "code",
   "execution_count": 21,
   "metadata": {
    "id": "2XbWNf1Te5fM"
   },
   "outputs": [],
   "source": [
    "# Import packages\n",
    "from pyspark.sql import SparkSession\n",
    "from pyspark.sql.functions import col, avg, round\n",
    "import time\n",
    "\n",
    "# Create a SparkSession\n",
    "spark = SparkSession.builder.appName(\"SparkSQL\").getOrCreate()"
   ]
  },
  {
   "cell_type": "code",
   "execution_count": 22,
   "metadata": {
    "id": "wOJqxG_RPSwp"
   },
   "outputs": [
    {
     "name": "stderr",
     "output_type": "stream",
     "text": [
      "23/12/09 12:44:12 WARN SparkContext: The path https://2u-data-curriculum-team.s3.amazonaws.com/dataviz-classroom/v1.2/22-big-data/home_sales_revised.csv has been added already. Overwriting of added paths is not supported in the current version.\n"
     ]
    },
    {
     "data": {
      "text/plain": [
       "Row(id='f8a53099-ba1c-47d6-9c31-7398aa8f6089', date='2022-04-08', date_built='2016', price='936923', bedrooms='4', bathrooms='3', sqft_living='3167', sqft_lot='11733', floors='2', waterfront='1', view='76')"
      ]
     },
     "execution_count": 22,
     "metadata": {},
     "output_type": "execute_result"
    }
   ],
   "source": [
    "# 1. Read in the AWS S3 bucket into a DataFrame.\n",
    "from pyspark import SparkFiles\n",
    "url = \"https://2u-data-curriculum-team.s3.amazonaws.com/dataviz-classroom/v1.2/22-big-data/home_sales_revised.csv\"\n",
    "\n",
    "spark.sparkContext.addFile(url)\n",
    "homes_df = spark.read.csv(SparkFiles.get(\"home_sales_revised.csv\"), sep=\",\", header=True)\n",
    "homes_df.head()"
   ]
  },
  {
   "cell_type": "code",
   "execution_count": 23,
   "metadata": {
    "id": "RoljcJ7WPpnm"
   },
   "outputs": [],
   "source": [
    "# 2. Create a temporary view of the DataFrame.\n",
    "homes_df.createOrReplaceTempView('home_sales')\n"
   ]
  },
  {
   "cell_type": "code",
   "execution_count": 26,
   "metadata": {
    "id": "L6fkwOeOmqvq"
   },
   "outputs": [
    {
     "name": "stdout",
     "output_type": "stream",
     "text": [
      "+----------+---------+\n",
      "|      date|avg_price|\n",
      "+----------+---------+\n",
      "|2019-01-01| 365088.0|\n",
      "|2019-01-02|271644.29|\n",
      "|2019-01-03|381218.86|\n",
      "|2019-01-04|359586.14|\n",
      "|2019-01-05|323683.57|\n",
      "|2019-01-06|301091.13|\n",
      "|2019-01-07| 327474.5|\n",
      "|2019-01-08|304567.83|\n",
      "|2019-01-09| 243619.0|\n",
      "|2019-01-10| 287844.4|\n",
      "|2019-01-11|277574.29|\n",
      "|2019-01-12| 218507.0|\n",
      "|2019-01-13|294603.86|\n",
      "|2019-01-14|284434.57|\n",
      "|2019-01-15| 254288.5|\n",
      "|2019-01-16| 335106.5|\n",
      "|2019-01-17|333439.09|\n",
      "|2019-01-18|297542.56|\n",
      "|2019-01-19|294484.22|\n",
      "|2019-01-20|312395.33|\n",
      "+----------+---------+\n",
      "only showing top 20 rows\n",
      "\n"
     ]
    }
   ],
   "source": [
    "# 3. What is the average price for a four bedroom house sold in each year rounded to two decimal places?\n",
    "result1 = homes_df.filter(col(\"bedrooms\").cast(\"int\") == 4)\\\n",
    "                 .groupBy(\"date\")\\\n",
    "                 .agg(round(avg(\"price\"), 2).alias(\"avg_price\"))\\\n",
    "                 .orderBy(\"date\")\n",
    "\n",
    "result1.show()"
   ]
  },
  {
   "cell_type": "code",
   "execution_count": 24,
   "metadata": {},
   "outputs": [
    {
     "name": "stdout",
     "output_type": "stream",
     "text": [
      "['id', 'date', 'date_built', 'price', 'bedrooms', 'bathrooms', 'sqft_living', 'sqft_lot', 'floors', 'waterfront', 'view']\n"
     ]
    }
   ],
   "source": [
    "print(homes_df.columns)\n"
   ]
  },
  {
   "cell_type": "code",
   "execution_count": 27,
   "metadata": {
    "id": "l8p_tUS8h8it"
   },
   "outputs": [
    {
     "name": "stdout",
     "output_type": "stream",
     "text": [
      "+----------+---------+\n",
      "|      date|avg_price|\n",
      "+----------+---------+\n",
      "|2019-01-01| 316073.5|\n",
      "|2019-01-02|344639.38|\n",
      "|2019-01-03| 124107.0|\n",
      "|2019-01-04| 209626.0|\n",
      "|2019-01-05| 219228.8|\n",
      "|2019-01-06|359786.75|\n",
      "|2019-01-07| 347663.0|\n",
      "|2019-01-08| 234974.0|\n",
      "|2019-01-09| 393417.8|\n",
      "|2019-01-10|232471.67|\n",
      "|2019-01-11|356400.33|\n",
      "|2019-01-12| 274625.0|\n",
      "|2019-01-13| 263419.0|\n",
      "|2019-01-14|295011.56|\n",
      "|2019-01-15|322817.83|\n",
      "|2019-01-16| 295334.6|\n",
      "|2019-01-17|295683.67|\n",
      "|2019-01-18| 258211.2|\n",
      "|2019-01-19|225870.83|\n",
      "|2019-01-20| 252820.0|\n",
      "+----------+---------+\n",
      "only showing top 20 rows\n",
      "\n"
     ]
    }
   ],
   "source": [
    "# 4. What is the average price of a home for each year the home was built that have 3 bedrooms and 3 bathrooms rounded to two decimal places?\n",
    "result2 = homes_df.filter((col(\"bedrooms\").cast(\"int\") == 3) & (col(\"bathrooms\").cast(\"int\") == 3))\\\n",
    "                 .groupBy(\"date\")\\\n",
    "                 .agg(round(avg(\"price\"), 2).alias(\"avg_price\"))\\\n",
    "                 .orderBy(\"date\")\n",
    "\n",
    "result2.show()\n"
   ]
  },
  {
   "cell_type": "code",
   "execution_count": 28,
   "metadata": {
    "id": "Y-Eytz64liDU"
   },
   "outputs": [
    {
     "name": "stdout",
     "output_type": "stream",
     "text": [
      "+----------+---------+\n",
      "|      date|avg_price|\n",
      "+----------+---------+\n",
      "|2019-01-01| 316073.5|\n",
      "|2019-01-04| 209626.0|\n",
      "|2019-01-05| 134866.0|\n",
      "|2019-01-06|341909.33|\n",
      "|2019-01-07| 372195.0|\n",
      "|2019-01-09| 431916.0|\n",
      "|2019-01-11| 170073.0|\n",
      "|2019-01-13| 309647.0|\n",
      "|2019-01-14| 434033.0|\n",
      "|2019-01-15| 432945.0|\n",
      "|2019-01-16| 194432.5|\n",
      "|2019-01-17|302354.33|\n",
      "|2019-01-18| 306050.0|\n",
      "|2019-01-19| 214817.0|\n",
      "|2019-01-20| 193427.0|\n",
      "|2019-01-21| 232836.5|\n",
      "|2019-01-22| 159979.0|\n",
      "|2019-01-28| 346279.0|\n",
      "|2019-01-31| 277476.0|\n",
      "|2019-02-02| 447509.0|\n",
      "+----------+---------+\n",
      "only showing top 20 rows\n",
      "\n"
     ]
    }
   ],
   "source": [
    "# 5. What is the average price of a home for each year built that have 3 bedrooms, 3 bathrooms, with two floors,\n",
    "# and are greater than or equal to 2,000 square feet rounded to two decimal places?\n",
    "result3 = homes_df.filter((col(\"bedrooms\").cast(\"int\") == 3) &\n",
    "                          (col(\"bathrooms\").cast(\"int\") == 3) &\n",
    "                          (col(\"floors\") == 2) &\n",
    "                          (col(\"sqft_living\").cast(\"int\") >= 2000))\\\n",
    "                 .groupBy(\"date\")\\\n",
    "                 .agg(round(avg(\"price\"), 2).alias(\"avg_price\"))\\\n",
    "                 .orderBy(\"date\")\n",
    "\n",
    "result3.show()\n",
    "\n"
   ]
  },
  {
   "cell_type": "code",
   "execution_count": 29,
   "metadata": {
    "colab": {
     "base_uri": "https://localhost:8080/"
    },
    "id": "GUrfgOX1pCRd",
    "outputId": "0a645986-7179-440c-c0bc-345f1693f8af"
   },
   "outputs": [
    {
     "name": "stdout",
     "output_type": "stream",
     "text": [
      "--- 5.125999450683594e-05 seconds ---\n"
     ]
    }
   ],
   "source": [
    "# 6. What is the \"view\" rating for the average price of a home, rounded to two decimal places, where the homes are greater than\n",
    "# or equal to $350,000? Although this is a small dataset, determine the run time for this query.\n",
    "\n",
    "start_time = time.time()\n",
    "\n",
    "\n",
    "\n",
    "print(\"--- %s seconds ---\" % (time.time() - start_time))"
   ]
  },
  {
   "cell_type": "code",
   "execution_count": 30,
   "metadata": {
    "id": "KAhk3ZD2tFy8"
   },
   "outputs": [],
   "source": [
    "# 7. Cache the the temporary table home_sales.\n",
    "spark.catalog.cacheTable(\"home_sales\")"
   ]
  },
  {
   "cell_type": "code",
   "execution_count": 31,
   "metadata": {
    "id": "4opVhbvxtL-i"
   },
   "outputs": [
    {
     "name": "stdout",
     "output_type": "stream",
     "text": [
      "Is home_sales cached? True\n"
     ]
    }
   ],
   "source": [
    "# 8. Check if the table is cached.\n",
    "spark.catalog.isCached('home_sales')\n",
    "print(\"Is home_sales cached?\", spark.catalog.isCached(\"home_sales\"))"
   ]
  },
  {
   "cell_type": "code",
   "execution_count": 32,
   "metadata": {
    "colab": {
     "base_uri": "https://localhost:8080/"
    },
    "id": "5GnL46lwTSEk",
    "outputId": "63c7dc50-d96a-4a48-97b6-91a446cdb973"
   },
   "outputs": [
    {
     "name": "stdout",
     "output_type": "stream",
     "text": [
      "+----+---------+\n",
      "|view|avg_price|\n",
      "+----+---------+\n",
      "|   0|403848.51|\n",
      "|   1|401044.25|\n",
      "|  10|401868.43|\n",
      "| 100|1026669.5|\n",
      "|  11|399548.12|\n",
      "|  12|401501.32|\n",
      "|  13|398917.98|\n",
      "|  14|398570.03|\n",
      "|  15| 404673.3|\n",
      "|  16|399586.53|\n",
      "|  17|398474.49|\n",
      "|  18|399332.91|\n",
      "|  19|398953.17|\n",
      "|   2|397389.25|\n",
      "|  20|399522.81|\n",
      "|  21|399758.88|\n",
      "|  22|402022.68|\n",
      "|  23|403411.92|\n",
      "|  24|400284.92|\n",
      "|  25|401298.69|\n",
      "+----+---------+\n",
      "only showing top 20 rows\n",
      "\n",
      "--- 3.3855438232421875e-05 seconds ---\n"
     ]
    }
   ],
   "source": [
    "# 9. Using the cached data, run the query that filters out the view ratings with average price \n",
    "#  greater than or equal to $350,000. Determine the runtime and compare it to uncached runtime.\n",
    "result3_cached = spark.sql(\"SELECT view, round(avg(price), 2) as avg_price FROM home_sales WHERE price >= 350000 GROUP BY view ORDER BY view\")\n",
    "result3_cached.show()\n",
    "\n",
    "start_time = time.time()\n",
    "\n",
    "\n",
    "\n",
    "print(\"--- %s seconds ---\" % (time.time() - start_time))\n"
   ]
  },
  {
   "cell_type": "code",
   "execution_count": 33,
   "metadata": {
    "id": "Qm12WN9isHBR"
   },
   "outputs": [
    {
     "name": "stderr",
     "output_type": "stream",
     "text": [
      "                                                                                \r"
     ]
    }
   ],
   "source": [
    "# 10. Partition by the \"date_built\" field on the formatted parquet home sales data \n",
    "homes_df.write.partitionBy(\"date_built\").parquet(\"home_sales_partitioned_parquet\")"
   ]
  },
  {
   "cell_type": "code",
   "execution_count": 35,
   "metadata": {
    "id": "AZ7BgY61sRqY"
   },
   "outputs": [
    {
     "name": "stdout",
     "output_type": "stream",
     "text": [
      "DataFrame[id: string, date: string, price: string, bedrooms: string, bathrooms: string, sqft_living: string, sqft_lot: string, floors: string, waterfront: string, view: string, date_built: int]\n"
     ]
    }
   ],
   "source": [
    "# 11. Read the parquet formatted data.\n",
    "partitioned_parquet_df = spark.read.parquet(\"home_sales_partitioned_parquet\")\n",
    "print(partitioned_parquet_df)"
   ]
  },
  {
   "cell_type": "code",
   "execution_count": 36,
   "metadata": {
    "id": "J6MJkHfvVcvh"
   },
   "outputs": [],
   "source": [
    "# 12. Create a temporary table for the parquet data.\n",
    "partitioned_parquet_df = spark.read.parquet(\"home_sales_partitioned_parquet\")\n",
    "partitioned_parquet_df.createOrReplaceTempView(\"home_sales_partitioned_parquet\")"
   ]
  },
  {
   "cell_type": "code",
   "execution_count": 41,
   "metadata": {
    "colab": {
     "base_uri": "https://localhost:8080/"
    },
    "id": "G_Vhb52rU1Sn",
    "outputId": "d6748ea6-d70a-41fd-dcb8-c214a85e949e"
   },
   "outputs": [
    {
     "ename": "AnalysisException",
     "evalue": "[TABLE_OR_VIEW_NOT_FOUND] The table or view `home_sales_parquet` cannot be found. Verify the spelling and correctness of the schema and catalog.\nIf you did not qualify the name with a schema, verify the current_schema() output, or qualify the name with the correct schema and catalog.\nTo tolerate the error on drop use DROP VIEW IF EXISTS or DROP TABLE IF EXISTS.; line 3 pos 9;\n'Sort ['view ASC NULLS FIRST], true\n+- 'Aggregate ['view], ['view, 'ROUND('AVG('price), 2) AS avg_price#989]\n   +- 'Filter ('price >= 350000)\n      +- 'UnresolvedRelation [home_sales_parquet], [], false\n",
     "output_type": "error",
     "traceback": [
      "\u001b[0;31m---------------------------------------------------------------------------\u001b[0m",
      "\u001b[0;31mAnalysisException\u001b[0m                         Traceback (most recent call last)",
      "\u001b[1;32m/Users/josephdominicyiga/Downloads/Starter_Code 22/Home_Sales_starter_code_colab.ipynb Cell 16\u001b[0m line \u001b[0;36m8\n\u001b[1;32m      <a href='vscode-notebook-cell:/Users/josephdominicyiga/Downloads/Starter_Code%2022/Home_Sales_starter_code_colab.ipynb#X20sZmlsZQ%3D%3D?line=0'>1</a>\u001b[0m \u001b[39m# 13. Run the query that filters out the view ratings with average price of greater than or equal to $350,000 \u001b[39;00m\n\u001b[1;32m      <a href='vscode-notebook-cell:/Users/josephdominicyiga/Downloads/Starter_Code%2022/Home_Sales_starter_code_colab.ipynb#X20sZmlsZQ%3D%3D?line=1'>2</a>\u001b[0m \u001b[39m# with the parquet DataFrame. Round your average to two decimal places. \u001b[39;00m\n\u001b[1;32m      <a href='vscode-notebook-cell:/Users/josephdominicyiga/Downloads/Starter_Code%2022/Home_Sales_starter_code_colab.ipynb#X20sZmlsZQ%3D%3D?line=2'>3</a>\u001b[0m \u001b[39m# Determine the runtime and compare it to the cached version.\u001b[39;00m\n\u001b[1;32m      <a href='vscode-notebook-cell:/Users/josephdominicyiga/Downloads/Starter_Code%2022/Home_Sales_starter_code_colab.ipynb#X20sZmlsZQ%3D%3D?line=3'>4</a>\u001b[0m \u001b[39m# Run the query on the parquet data\u001b[39;00m\n\u001b[1;32m      <a href='vscode-notebook-cell:/Users/josephdominicyiga/Downloads/Starter_Code%2022/Home_Sales_starter_code_colab.ipynb#X20sZmlsZQ%3D%3D?line=4'>5</a>\u001b[0m \u001b[39m# Run the query on the parquet data\u001b[39;00m\n\u001b[1;32m      <a href='vscode-notebook-cell:/Users/josephdominicyiga/Downloads/Starter_Code%2022/Home_Sales_starter_code_colab.ipynb#X20sZmlsZQ%3D%3D?line=5'>6</a>\u001b[0m start_time_parquet \u001b[39m=\u001b[39m time\u001b[39m.\u001b[39mtime()\n\u001b[0;32m----> <a href='vscode-notebook-cell:/Users/josephdominicyiga/Downloads/Starter_Code%2022/Home_Sales_starter_code_colab.ipynb#X20sZmlsZQ%3D%3D?line=7'>8</a>\u001b[0m result_parquet \u001b[39m=\u001b[39m spark\u001b[39m.\u001b[39;49msql(\u001b[39m\"\"\"\u001b[39;49m\n\u001b[1;32m      <a href='vscode-notebook-cell:/Users/josephdominicyiga/Downloads/Starter_Code%2022/Home_Sales_starter_code_colab.ipynb#X20sZmlsZQ%3D%3D?line=8'>9</a>\u001b[0m \u001b[39m    SELECT view, ROUND(AVG(price), 2) AS avg_price\u001b[39;49m\n\u001b[1;32m     <a href='vscode-notebook-cell:/Users/josephdominicyiga/Downloads/Starter_Code%2022/Home_Sales_starter_code_colab.ipynb#X20sZmlsZQ%3D%3D?line=9'>10</a>\u001b[0m \u001b[39m    FROM home_sales_parquet\u001b[39;49m\n\u001b[1;32m     <a href='vscode-notebook-cell:/Users/josephdominicyiga/Downloads/Starter_Code%2022/Home_Sales_starter_code_colab.ipynb#X20sZmlsZQ%3D%3D?line=10'>11</a>\u001b[0m \u001b[39m    WHERE price >= 350000\u001b[39;49m\n\u001b[1;32m     <a href='vscode-notebook-cell:/Users/josephdominicyiga/Downloads/Starter_Code%2022/Home_Sales_starter_code_colab.ipynb#X20sZmlsZQ%3D%3D?line=11'>12</a>\u001b[0m \u001b[39m    GROUP BY view\u001b[39;49m\n\u001b[1;32m     <a href='vscode-notebook-cell:/Users/josephdominicyiga/Downloads/Starter_Code%2022/Home_Sales_starter_code_colab.ipynb#X20sZmlsZQ%3D%3D?line=12'>13</a>\u001b[0m \u001b[39m    ORDER BY view\u001b[39;49m\n\u001b[1;32m     <a href='vscode-notebook-cell:/Users/josephdominicyiga/Downloads/Starter_Code%2022/Home_Sales_starter_code_colab.ipynb#X20sZmlsZQ%3D%3D?line=13'>14</a>\u001b[0m \u001b[39m\"\"\"\u001b[39;49m)\n\u001b[1;32m     <a href='vscode-notebook-cell:/Users/josephdominicyiga/Downloads/Starter_Code%2022/Home_Sales_starter_code_colab.ipynb#X20sZmlsZQ%3D%3D?line=15'>16</a>\u001b[0m end_time_parquet \u001b[39m=\u001b[39m time\u001b[39m.\u001b[39mtime()\n\u001b[1;32m     <a href='vscode-notebook-cell:/Users/josephdominicyiga/Downloads/Starter_Code%2022/Home_Sales_starter_code_colab.ipynb#X20sZmlsZQ%3D%3D?line=16'>17</a>\u001b[0m runtime_parquet \u001b[39m=\u001b[39m end_time_parquet \u001b[39m-\u001b[39m start_time_parquet\n",
      "File \u001b[0;32m~/anaconda3/lib/python3.10/site-packages/pyspark/sql/session.py:1631\u001b[0m, in \u001b[0;36mSparkSession.sql\u001b[0;34m(self, sqlQuery, args, **kwargs)\u001b[0m\n\u001b[1;32m   1627\u001b[0m         \u001b[39massert\u001b[39;00m \u001b[39mself\u001b[39m\u001b[39m.\u001b[39m_jvm \u001b[39mis\u001b[39;00m \u001b[39mnot\u001b[39;00m \u001b[39mNone\u001b[39;00m\n\u001b[1;32m   1628\u001b[0m         litArgs \u001b[39m=\u001b[39m \u001b[39mself\u001b[39m\u001b[39m.\u001b[39m_jvm\u001b[39m.\u001b[39mPythonUtils\u001b[39m.\u001b[39mtoArray(\n\u001b[1;32m   1629\u001b[0m             [_to_java_column(lit(v)) \u001b[39mfor\u001b[39;00m v \u001b[39min\u001b[39;00m (args \u001b[39mor\u001b[39;00m [])]\n\u001b[1;32m   1630\u001b[0m         )\n\u001b[0;32m-> 1631\u001b[0m     \u001b[39mreturn\u001b[39;00m DataFrame(\u001b[39mself\u001b[39;49m\u001b[39m.\u001b[39;49m_jsparkSession\u001b[39m.\u001b[39;49msql(sqlQuery, litArgs), \u001b[39mself\u001b[39m)\n\u001b[1;32m   1632\u001b[0m \u001b[39mfinally\u001b[39;00m:\n\u001b[1;32m   1633\u001b[0m     \u001b[39mif\u001b[39;00m \u001b[39mlen\u001b[39m(kwargs) \u001b[39m>\u001b[39m \u001b[39m0\u001b[39m:\n",
      "File \u001b[0;32m~/anaconda3/lib/python3.10/site-packages/py4j/java_gateway.py:1322\u001b[0m, in \u001b[0;36mJavaMember.__call__\u001b[0;34m(self, *args)\u001b[0m\n\u001b[1;32m   1316\u001b[0m command \u001b[39m=\u001b[39m proto\u001b[39m.\u001b[39mCALL_COMMAND_NAME \u001b[39m+\u001b[39m\\\n\u001b[1;32m   1317\u001b[0m     \u001b[39mself\u001b[39m\u001b[39m.\u001b[39mcommand_header \u001b[39m+\u001b[39m\\\n\u001b[1;32m   1318\u001b[0m     args_command \u001b[39m+\u001b[39m\\\n\u001b[1;32m   1319\u001b[0m     proto\u001b[39m.\u001b[39mEND_COMMAND_PART\n\u001b[1;32m   1321\u001b[0m answer \u001b[39m=\u001b[39m \u001b[39mself\u001b[39m\u001b[39m.\u001b[39mgateway_client\u001b[39m.\u001b[39msend_command(command)\n\u001b[0;32m-> 1322\u001b[0m return_value \u001b[39m=\u001b[39m get_return_value(\n\u001b[1;32m   1323\u001b[0m     answer, \u001b[39mself\u001b[39;49m\u001b[39m.\u001b[39;49mgateway_client, \u001b[39mself\u001b[39;49m\u001b[39m.\u001b[39;49mtarget_id, \u001b[39mself\u001b[39;49m\u001b[39m.\u001b[39;49mname)\n\u001b[1;32m   1325\u001b[0m \u001b[39mfor\u001b[39;00m temp_arg \u001b[39min\u001b[39;00m temp_args:\n\u001b[1;32m   1326\u001b[0m     \u001b[39mif\u001b[39;00m \u001b[39mhasattr\u001b[39m(temp_arg, \u001b[39m\"\u001b[39m\u001b[39m_detach\u001b[39m\u001b[39m\"\u001b[39m):\n",
      "File \u001b[0;32m~/anaconda3/lib/python3.10/site-packages/pyspark/errors/exceptions/captured.py:185\u001b[0m, in \u001b[0;36mcapture_sql_exception.<locals>.deco\u001b[0;34m(*a, **kw)\u001b[0m\n\u001b[1;32m    181\u001b[0m converted \u001b[39m=\u001b[39m convert_exception(e\u001b[39m.\u001b[39mjava_exception)\n\u001b[1;32m    182\u001b[0m \u001b[39mif\u001b[39;00m \u001b[39mnot\u001b[39;00m \u001b[39misinstance\u001b[39m(converted, UnknownException):\n\u001b[1;32m    183\u001b[0m     \u001b[39m# Hide where the exception came from that shows a non-Pythonic\u001b[39;00m\n\u001b[1;32m    184\u001b[0m     \u001b[39m# JVM exception message.\u001b[39;00m\n\u001b[0;32m--> 185\u001b[0m     \u001b[39mraise\u001b[39;00m converted \u001b[39mfrom\u001b[39;00m \u001b[39mNone\u001b[39m\n\u001b[1;32m    186\u001b[0m \u001b[39melse\u001b[39;00m:\n\u001b[1;32m    187\u001b[0m     \u001b[39mraise\u001b[39;00m\n",
      "\u001b[0;31mAnalysisException\u001b[0m: [TABLE_OR_VIEW_NOT_FOUND] The table or view `home_sales_parquet` cannot be found. Verify the spelling and correctness of the schema and catalog.\nIf you did not qualify the name with a schema, verify the current_schema() output, or qualify the name with the correct schema and catalog.\nTo tolerate the error on drop use DROP VIEW IF EXISTS or DROP TABLE IF EXISTS.; line 3 pos 9;\n'Sort ['view ASC NULLS FIRST], true\n+- 'Aggregate ['view], ['view, 'ROUND('AVG('price), 2) AS avg_price#989]\n   +- 'Filter ('price >= 350000)\n      +- 'UnresolvedRelation [home_sales_parquet], [], false\n"
     ]
    }
   ],
   "source": [
    "# 13. Run the query that filters out the view ratings with average price of greater than or equal to $350,000 \n",
    "# with the parquet DataFrame. Round your average to two decimal places. \n",
    "# Determine the runtime and compare it to the cached version.\n",
    "# Run the query on the parquet data\n",
    "# Run the query on the parquet data\n",
    "start_time_parquet = time.time()\n",
    "\n",
    "result_parquet = spark.sql(\"\"\"\n",
    "    SELECT view, ROUND(AVG(price), 2) AS avg_price\n",
    "    FROM home_sales_parquet\n",
    "    WHERE price >= 350000\n",
    "    GROUP BY view\n",
    "    ORDER BY view\n",
    "\"\"\")\n",
    "\n",
    "end_time_parquet = time.time()\n",
    "runtime_parquet = end_time_parquet - start_time_parquet\n",
    "\n",
    "# Show the result and print the runtime\n",
    "result_parquet.show()\n",
    "print(f\"Runtime for Parquet query: {round(runtime_parquet, 2)} seconds\")"
   ]
  },
  {
   "cell_type": "code",
   "execution_count": 37,
   "metadata": {
    "id": "hjjYzQGjtbq8"
   },
   "outputs": [],
   "source": [
    "# 14. Uncache the home_sales temporary table.\n",
    "spark.catalog.uncacheTable(\"home_sales\")\n"
   ]
  },
  {
   "cell_type": "code",
   "execution_count": 38,
   "metadata": {
    "id": "Sy9NBvO7tlmm"
   },
   "outputs": [
    {
     "name": "stdout",
     "output_type": "stream",
     "text": [
      "Is home_sales cached? False\n"
     ]
    }
   ],
   "source": [
    "# 15. Check if the home_sales is no longer cached\n",
    "print(\"Is home_sales cached?\", spark.catalog.isCached(\"home_sales\"))\n",
    "\n"
   ]
  },
  {
   "cell_type": "code",
   "execution_count": null,
   "metadata": {
    "id": "Si-BNruRUGK3"
   },
   "outputs": [],
   "source": []
  }
 ],
 "metadata": {
  "colab": {
   "provenance": []
  },
  "gpuClass": "standard",
  "kernelspec": {
   "display_name": "Python 3 (ipykernel)",
   "language": "python",
   "name": "python3"
  },
  "language_info": {
   "codemirror_mode": {
    "name": "ipython",
    "version": 3
   },
   "file_extension": ".py",
   "mimetype": "text/x-python",
   "name": "python",
   "nbconvert_exporter": "python",
   "pygments_lexer": "ipython3",
   "version": "3.10.9"
  },
  "nteract": {
   "version": "0.28.0"
  }
 },
 "nbformat": 4,
 "nbformat_minor": 1
}
